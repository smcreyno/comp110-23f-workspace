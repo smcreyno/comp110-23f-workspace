{
 "cells": [
  {
   "cell_type": "code",
   "execution_count": 4,
   "metadata": {},
   "outputs": [
    {
     "data": {
      "text/plain": [
       "{'blue': 5, 'yellow': 2, 'red': 4}"
      ]
     },
     "execution_count": 4,
     "metadata": {},
     "output_type": "execute_result"
    }
   ],
   "source": [
    "# Write a function called merge_lists. Given a list[str] and a list[int], \n",
    "# merge_lists should return a dict[str, int] \n",
    "# that maps each item in the first list to its corresponding item in the second (based on index). \n",
    "# If the lists are not the same size, the function should return an empty dictionary.\n",
    "# Example: merge_lists([“blue”, “yellow”, “red”], [5, 2, 4]) should return {\"blue\": 5, \"yellow\": 2, \"red\": 4}\n",
    "\n",
    "def merge_lists(list_str: list[str], list_int: list[int]) -> dict[str, int]:\n",
    "    \"\"\"Maps each item in list_str to its corresponding item in list_int.\"\"\"\n",
    "    result: dict[str, int] = {}\n",
    "    if len(list_str) != len(list_int):\n",
    "        return result\n",
    "    else:\n",
    "        i: int = 0\n",
    "        while i < len(list_str):\n",
    "            result[list_str[i]] = list_int[i]\n",
    "            i += 1\n",
    "        return result\n",
    "\n",
    "    \n",
    "merge_lists([\"blue\", \"yellow\", \"red\"], [5, 2, 4])"
   ]
  }
 ],
 "metadata": {
  "kernelspec": {
   "display_name": "Python 3",
   "language": "python",
   "name": "python3"
  },
  "language_info": {
   "codemirror_mode": {
    "name": "ipython",
    "version": 3
   },
   "file_extension": ".py",
   "mimetype": "text/x-python",
   "name": "python",
   "nbconvert_exporter": "python",
   "pygments_lexer": "ipython3",
   "version": "3.11.4"
  },
  "orig_nbformat": 4
 },
 "nbformat": 4,
 "nbformat_minor": 2
}
