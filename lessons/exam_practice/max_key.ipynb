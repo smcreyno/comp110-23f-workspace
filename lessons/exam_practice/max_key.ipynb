{
 "cells": [
  {
   "cell_type": "code",
   "execution_count": 3,
   "metadata": {},
   "outputs": [
    {
     "data": {
      "text/plain": [
       "'b'"
      ]
     },
     "execution_count": 3,
     "metadata": {},
     "output_type": "execute_result"
    }
   ],
   "source": [
    "# Write a function called max_key. Given a dictionary with str keys and list[int] values, return a str with the \n",
    "# name of the key whose list has the highest sum of values. Example: max_key({\"a\": [1,2,3], \"b\": [4,5,6]}) \n",
    "# should return \"b\" because the sum of a’s elements is 1 + 2 + 3 = 6 and the \n",
    "# sum of b’s elements is 4 + 5 + 6 = 15, and 15 > 6\n",
    "\n",
    "def max_key(given: dict[str, list[int]]) -> str:\n",
    "    \"\"\"Given a dict, return a str with name of the key that has the highest sum of values.\"\"\"\n",
    "    max_key: str = \"\"\n",
    "    max_sum: int = 0\n",
    "    for key in given:\n",
    "        compare_list: list[int] = given[key]\n",
    "        sum: int = 0\n",
    "        for elem in compare_list:\n",
    "            sum += elem\n",
    "        if sum > max_sum:\n",
    "            max_sum = sum\n",
    "            max_key = key\n",
    "    return max_key\n",
    "        \n",
    "\n",
    "max_key({\"a\": [1,2,3], \"b\": [4,5,6]})"
   ]
  }
 ],
 "metadata": {
  "kernelspec": {
   "display_name": "Python 3",
   "language": "python",
   "name": "python3"
  },
  "language_info": {
   "codemirror_mode": {
    "name": "ipython",
    "version": 3
   },
   "file_extension": ".py",
   "mimetype": "text/x-python",
   "name": "python",
   "nbconvert_exporter": "python",
   "pygments_lexer": "ipython3",
   "version": "3.11.4"
  },
  "orig_nbformat": 4
 },
 "nbformat": 4,
 "nbformat_minor": 2
}
