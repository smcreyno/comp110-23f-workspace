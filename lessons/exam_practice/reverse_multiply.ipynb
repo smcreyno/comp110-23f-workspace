{
 "cells": [
  {
   "cell_type": "code",
   "execution_count": 4,
   "metadata": {},
   "outputs": [
    {
     "data": {
      "text/plain": [
       "[6, 4, 2]"
      ]
     },
     "execution_count": 4,
     "metadata": {},
     "output_type": "execute_result"
    }
   ],
   "source": [
    "# Write a function called reverse_multiply. \n",
    "# Given a list[int], reverse_multiply should return a list[int] \n",
    "# with the values from the original list doubled and in reverse order.\n",
    "# Example: reverse_multiply([1, 2, 3]) should return [6, 4, 2].\n",
    "\n",
    "def reverse_multiply(given: list[int]) -> list[int]:\n",
    "    \"\"\"Puts doubled values from original list in reverse order.\"\"\"\n",
    "    result: list[int] = []\n",
    "    i: int = len(given) - 1\n",
    "    while i >= 0:\n",
    "        result.append(given[i] * 2)\n",
    "        i -= 1\n",
    "    return result\n",
    "\n",
    "reverse_multiply([1, 2, 3])"
   ]
  }
 ],
 "metadata": {
  "kernelspec": {
   "display_name": "Python 3",
   "language": "python",
   "name": "python3"
  },
  "language_info": {
   "codemirror_mode": {
    "name": "ipython",
    "version": 3
   },
   "file_extension": ".py",
   "mimetype": "text/x-python",
   "name": "python",
   "nbconvert_exporter": "python",
   "pygments_lexer": "ipython3",
   "version": "3.11.4"
  },
  "orig_nbformat": 4
 },
 "nbformat": 4,
 "nbformat_minor": 2
}
