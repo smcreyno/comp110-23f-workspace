{
 "cells": [
  {
   "cell_type": "code",
   "execution_count": 1,
   "metadata": {},
   "outputs": [
    {
     "data": {
      "text/plain": [
       "{'UNCvsDuke': True, 'UNCvsState': False}"
      ]
     },
     "execution_count": 1,
     "metadata": {},
     "output_type": "execute_result"
    }
   ],
   "source": [
    "# Write a function called free_biscuits. \n",
    "# Given a dictionary with str keys (representing basketball games) and list[int] values (representing points scored by players), \n",
    "# free_biscuits should return a new dictionary of type dict[str, bool] \n",
    "# that maps each game to a boolean value for free biscuits. (True if the points add up to 100+, False if otherwise)\n",
    "# Example: free_biscuits({ “UNCvsDuke”: [38, 20, 42] , “UNCvsState”: [9, 51, 16, 23] }) should return { “UNCvsDuke”: True, “UNCvsState”: False }.\n",
    "\n",
    "def free_biscuits(given: dict[str, list[int]]) -> dict[str, bool]:\n",
    "    \"\"\"Maps each key to a bool value for free biscuits.\"\"\"\n",
    "    result: dict[str, bool] = {}\n",
    "    for key in given:\n",
    "        points: int = 0\n",
    "        for elem in given[key]:\n",
    "            points += elem\n",
    "        if points >= 100:\n",
    "            result[key] = True\n",
    "        elif points <= 100:\n",
    "            result[key] = False\n",
    "    return result\n",
    "\n",
    "free_biscuits({\"UNCvsDuke\": [38, 20, 42] , \"UNCvsState\": [9, 51, 16, 23]})\n"
   ]
  }
 ],
 "metadata": {
  "kernelspec": {
   "display_name": "Python 3",
   "language": "python",
   "name": "python3"
  },
  "language_info": {
   "codemirror_mode": {
    "name": "ipython",
    "version": 3
   },
   "file_extension": ".py",
   "mimetype": "text/x-python",
   "name": "python",
   "nbconvert_exporter": "python",
   "pygments_lexer": "ipython3",
   "version": "3.11.4"
  },
  "orig_nbformat": 4
 },
 "nbformat": 4,
 "nbformat_minor": 2
}
