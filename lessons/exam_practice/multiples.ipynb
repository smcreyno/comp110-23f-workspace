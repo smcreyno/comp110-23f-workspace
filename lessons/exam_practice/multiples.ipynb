{
 "cells": [
  {
   "cell_type": "code",
   "execution_count": 11,
   "metadata": {},
   "outputs": [
    {
     "data": {
      "text/plain": [
       "[True, False, False, True, True, False, True, False]"
      ]
     },
     "execution_count": 11,
     "metadata": {},
     "output_type": "execute_result"
    }
   ],
   "source": [
    "# Write a function called multiples. Given a list[int], multiples should return a list[bool] \n",
    "# that tells whether each int value is a multiple of the previous value. \n",
    "# For the first number in the list, you should wrap around the list and \n",
    "# compare this int to the last number in the list.\n",
    "# Example: multiples([2, 3, 4, 8, 16, 2, 4, 2]) should return [True, False, False, True, True, False, True, False].\n",
    "\n",
    "def multiples(given: list[int]) -> list[bool]:\n",
    "    \"\"\"Tells whether each int value is a multiple of the previous value.\"\"\"\n",
    "    compare_list: list[int] = given\n",
    "    result_list: list[bool] = []\n",
    "    i: int = 0\n",
    "    while i < len(given):\n",
    "        if i == 0:\n",
    "            if given[i] % compare_list[len(given) - 1] == 0:\n",
    "                result_list.append(True)\n",
    "            else:\n",
    "                result_list.append(False)\n",
    "        else:\n",
    "            if given[i] % compare_list[i - 1] == 0:\n",
    "                result_list.append(True)\n",
    "            else: \n",
    "                result_list.append(False)\n",
    "        i += 1\n",
    "    return result_list\n",
    "\n",
    "multiples([2, 3, 4, 8, 16, 2, 4, 2])\n"
   ]
  }
 ],
 "metadata": {
  "kernelspec": {
   "display_name": "Python 3",
   "language": "python",
   "name": "python3"
  },
  "language_info": {
   "codemirror_mode": {
    "name": "ipython",
    "version": 3
   },
   "file_extension": ".py",
   "mimetype": "text/x-python",
   "name": "python",
   "nbconvert_exporter": "python",
   "pygments_lexer": "ipython3",
   "version": "3.11.4"
  },
  "orig_nbformat": 4
 },
 "nbformat": 4,
 "nbformat_minor": 2
}
