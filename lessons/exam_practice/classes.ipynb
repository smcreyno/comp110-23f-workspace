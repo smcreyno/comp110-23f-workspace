{
 "cells": [
  {
   "cell_type": "code",
   "execution_count": 3,
   "metadata": {},
   "outputs": [
    {
     "data": {
      "text/plain": [
       "{'UNCvsDuke': True, 'UNCvsState': False}"
      ]
     },
     "execution_count": 3,
     "metadata": {},
     "output_type": "execute_result"
    }
   ],
   "source": [
    "# write a function called free_biscuits\n",
    "# Given a dictionary with str keys (representing basketball games)\n",
    "# and list[int] (representing points scored by players)\n",
    "# free_biscuits should return a new dictionary of type dict[str, bool]\n",
    "# that maps each game to a boolean valye for free biscuits\n",
    "# (True if the points add up to 100+, False if otherwise)\n",
    "# Examnple: free_biscuits({ \"UNCvsDuke\": [38, 20, 42] , \"UNCvsState\": [9, 51, 16, 23] })\n",
    "# should return { \"UNCvsDuke\": True, \"UNCvsState\": False}.\n",
    "\n",
    "def free_biscuits(input: dict[str, list[int]]) -> dict[str, bool]:\n",
    "    \"\"\"My doc string.\"\"\"\n",
    "    result: dict[str, bool] = {}\n",
    "    # loop over each key in my input dictionary\n",
    "    for key in input:\n",
    "        # for each element of the dictionary, sum up its values\n",
    "        list_to_sum: list[int] = input[key]\n",
    "        sum: int = 0\n",
    "        # loop through list and add each value to sum\n",
    "        for element in list_to_sum:\n",
    "            sum += element\n",
    "        # if sum >= 100, store in result under \"key\" with value True\n",
    "        if sum >= 100:\n",
    "            result[key] = True\n",
    "        else: # if not, store as False\n",
    "            result[key] = False\n",
    "    return result\n",
    "\n",
    "test: dict[str, list[int]] = {\"UNCvsDuke\": [38, 20, 42] , \"UNCvsState\": [9, 51, 16, 23]}\n",
    "free_biscuits(test)"
   ]
  }
 ],
 "metadata": {
  "kernelspec": {
   "display_name": "Python 3",
   "language": "python",
   "name": "python3"
  },
  "language_info": {
   "codemirror_mode": {
    "name": "ipython",
    "version": 3
   },
   "file_extension": ".py",
   "mimetype": "text/x-python",
   "name": "python",
   "nbconvert_exporter": "python",
   "pygments_lexer": "ipython3",
   "version": "3.11.4"
  },
  "orig_nbformat": 4
 },
 "nbformat": 4,
 "nbformat_minor": 2
}
